{
 "cells": [
  {
   "cell_type": "code",
   "execution_count": null,
   "metadata": {
    "_cell_guid": "b1076dfc-b9ad-4769-8c92-a6c4dae69d19",
    "_uuid": "8f2839f25d086af736a60e9eeb907d3b93b6e0e5",
    "execution": {
     "iopub.execute_input": "2024-05-12T06:44:35.258886Z",
     "iopub.status.busy": "2024-05-12T06:44:35.25837Z",
     "iopub.status.idle": "2024-05-12T06:44:35.271156Z",
     "shell.execute_reply": "2024-05-12T06:44:35.269918Z",
     "shell.execute_reply.started": "2024-05-12T06:44:35.258846Z"
    }
   },
   "outputs": [],
   "source": [
    "import numpy as np\n",
    "import pandas as pd\n",
    "import matplotlib.pyplot as plt\n",
    "%matplotlib inline"
   ]
  },
  {
   "cell_type": "code",
   "execution_count": null,
   "metadata": {
    "execution": {
     "iopub.execute_input": "2024-05-12T06:52:01.383635Z",
     "iopub.status.busy": "2024-05-12T06:52:01.382382Z",
     "iopub.status.idle": "2024-05-12T06:52:01.40747Z",
     "shell.execute_reply": "2024-05-12T06:52:01.406244Z",
     "shell.execute_reply.started": "2024-05-12T06:52:01.383597Z"
    }
   },
   "outputs": [],
   "source": [
    "df = pd.read_csv('/kaggle/input/time-series-datasets/Electric_Production.csv')\n",
    "df.head()"
   ]
  },
  {
   "cell_type": "code",
   "execution_count": null,
   "metadata": {
    "execution": {
     "iopub.execute_input": "2024-05-12T07:00:04.382318Z",
     "iopub.status.busy": "2024-05-12T07:00:04.381928Z",
     "iopub.status.idle": "2024-05-12T07:00:04.388284Z",
     "shell.execute_reply": "2024-05-12T07:00:04.387204Z",
     "shell.execute_reply.started": "2024-05-12T07:00:04.382289Z"
    }
   },
   "outputs": [],
   "source": [
    "df.shape"
   ]
  },
  {
   "cell_type": "code",
   "execution_count": null,
   "metadata": {
    "execution": {
     "iopub.execute_input": "2024-05-12T06:52:02.211028Z",
     "iopub.status.busy": "2024-05-12T06:52:02.210563Z",
     "iopub.status.idle": "2024-05-12T06:52:02.224085Z",
     "shell.execute_reply": "2024-05-12T06:52:02.222558Z",
     "shell.execute_reply.started": "2024-05-12T06:52:02.210995Z"
    }
   },
   "outputs": [],
   "source": [
    "df.info()"
   ]
  },
  {
   "cell_type": "code",
   "execution_count": null,
   "metadata": {
    "execution": {
     "iopub.execute_input": "2024-05-12T06:56:27.307051Z",
     "iopub.status.busy": "2024-05-12T06:56:27.306679Z",
     "iopub.status.idle": "2024-05-12T06:56:27.322102Z",
     "shell.execute_reply": "2024-05-12T06:56:27.320868Z",
     "shell.execute_reply.started": "2024-05-12T06:56:27.307021Z"
    }
   },
   "outputs": [],
   "source": [
    "df['DATE'] = pd.to_datetime(df['DATE'])\n",
    "df.head()"
   ]
  },
  {
   "cell_type": "code",
   "execution_count": null,
   "metadata": {
    "execution": {
     "iopub.execute_input": "2024-05-12T06:56:31.449955Z",
     "iopub.status.busy": "2024-05-12T06:56:31.449515Z",
     "iopub.status.idle": "2024-05-12T06:56:31.462025Z",
     "shell.execute_reply": "2024-05-12T06:56:31.460908Z",
     "shell.execute_reply.started": "2024-05-12T06:56:31.449924Z"
    }
   },
   "outputs": [],
   "source": [
    "df.columns=[\"Month\",\"Sales\"]\n",
    "df.head()"
   ]
  },
  {
   "cell_type": "code",
   "execution_count": null,
   "metadata": {
    "execution": {
     "iopub.execute_input": "2024-05-12T06:56:33.557016Z",
     "iopub.status.busy": "2024-05-12T06:56:33.556249Z",
     "iopub.status.idle": "2024-05-12T06:56:33.576286Z",
     "shell.execute_reply": "2024-05-12T06:56:33.574923Z",
     "shell.execute_reply.started": "2024-05-12T06:56:33.556965Z"
    }
   },
   "outputs": [],
   "source": [
    "df.describe()"
   ]
  },
  {
   "cell_type": "code",
   "execution_count": null,
   "metadata": {
    "execution": {
     "iopub.execute_input": "2024-05-12T06:56:37.148763Z",
     "iopub.status.busy": "2024-05-12T06:56:37.147967Z",
     "iopub.status.idle": "2024-05-12T06:56:37.154994Z",
     "shell.execute_reply": "2024-05-12T06:56:37.15373Z",
     "shell.execute_reply.started": "2024-05-12T06:56:37.148726Z"
    }
   },
   "outputs": [],
   "source": [
    "df.set_index('Month',inplace=True)"
   ]
  },
  {
   "cell_type": "code",
   "execution_count": null,
   "metadata": {
    "execution": {
     "iopub.execute_input": "2024-05-12T06:56:40.369037Z",
     "iopub.status.busy": "2024-05-12T06:56:40.368422Z",
     "iopub.status.idle": "2024-05-12T06:56:40.378594Z",
     "shell.execute_reply": "2024-05-12T06:56:40.377405Z",
     "shell.execute_reply.started": "2024-05-12T06:56:40.369008Z"
    }
   },
   "outputs": [],
   "source": [
    "df.head()"
   ]
  },
  {
   "cell_type": "code",
   "execution_count": null,
   "metadata": {
    "execution": {
     "iopub.execute_input": "2024-05-12T06:56:43.992832Z",
     "iopub.status.busy": "2024-05-12T06:56:43.991806Z",
     "iopub.status.idle": "2024-05-12T06:56:44.495282Z",
     "shell.execute_reply": "2024-05-12T06:56:44.493996Z",
     "shell.execute_reply.started": "2024-05-12T06:56:43.992784Z"
    }
   },
   "outputs": [],
   "source": [
    "from pylab import rcParams\n",
    "rcParams['figure.figsize'] = 15, 7\n",
    "df.plot()"
   ]
  },
  {
   "cell_type": "markdown",
   "metadata": {},
   "source": [
    "## Checking stationary"
   ]
  },
  {
   "cell_type": "code",
   "execution_count": null,
   "metadata": {
    "execution": {
     "iopub.execute_input": "2024-05-12T06:56:51.141181Z",
     "iopub.status.busy": "2024-05-12T06:56:51.140359Z",
     "iopub.status.idle": "2024-05-12T06:56:51.161626Z",
     "shell.execute_reply": "2024-05-12T06:56:51.160681Z",
     "shell.execute_reply.started": "2024-05-12T06:56:51.141137Z"
    }
   },
   "outputs": [],
   "source": [
    "from statsmodels.tsa.stattools import adfuller\n",
    "test_result=adfuller(df['Sales'])"
   ]
  },
  {
   "cell_type": "code",
   "execution_count": null,
   "metadata": {
    "execution": {
     "iopub.execute_input": "2024-05-12T06:56:51.939116Z",
     "iopub.status.busy": "2024-05-12T06:56:51.938297Z",
     "iopub.status.idle": "2024-05-12T06:56:51.960921Z",
     "shell.execute_reply": "2024-05-12T06:56:51.959915Z",
     "shell.execute_reply.started": "2024-05-12T06:56:51.939081Z"
    }
   },
   "outputs": [],
   "source": [
    "def adfuller_test(sales):\n",
    "    result=adfuller(sales)\n",
    "    labels = ['ADF Test Statistic','p-value','#Lags Used','Number of Observations']\n",
    "    for value,label in zip(result,labels):\n",
    "        print(label+' : '+str(value) )\n",
    "\n",
    "    if result[1] <= 0.05:\n",
    "        print(\"strong evidence against the null hypothesis(Ho), reject the null hypothesis. Data is stationary\")\n",
    "    else:\n",
    "        print(\"weak evidence against null hypothesis,indicating it is non-stationary \")\n",
    "\n",
    "adfuller_test(df['Sales'])"
   ]
  },
  {
   "cell_type": "code",
   "execution_count": null,
   "metadata": {
    "execution": {
     "iopub.execute_input": "2024-05-12T06:56:53.815138Z",
     "iopub.status.busy": "2024-05-12T06:56:53.813928Z",
     "iopub.status.idle": "2024-05-12T06:56:53.832223Z",
     "shell.execute_reply": "2024-05-12T06:56:53.830526Z",
     "shell.execute_reply.started": "2024-05-12T06:56:53.815084Z"
    }
   },
   "outputs": [],
   "source": [
    "df['Sales First Difference'] = df['Sales'] - df['Sales'].shift(1)\n",
    "df['Seasonal First Difference']=df['Sales'] - df['Sales'].shift(12)\n",
    "df.head()"
   ]
  },
  {
   "cell_type": "code",
   "execution_count": null,
   "metadata": {
    "execution": {
     "iopub.execute_input": "2024-05-12T06:57:03.660998Z",
     "iopub.status.busy": "2024-05-12T06:57:03.660581Z",
     "iopub.status.idle": "2024-05-12T06:57:03.684618Z",
     "shell.execute_reply": "2024-05-12T06:57:03.683597Z",
     "shell.execute_reply.started": "2024-05-12T06:57:03.660968Z"
    }
   },
   "outputs": [],
   "source": [
    "adfuller_test(df['Seasonal First Difference'].dropna())"
   ]
  },
  {
   "cell_type": "code",
   "execution_count": null,
   "metadata": {
    "execution": {
     "iopub.execute_input": "2024-05-12T06:57:05.820802Z",
     "iopub.status.busy": "2024-05-12T06:57:05.820137Z",
     "iopub.status.idle": "2024-05-12T06:57:06.316583Z",
     "shell.execute_reply": "2024-05-12T06:57:06.315489Z",
     "shell.execute_reply.started": "2024-05-12T06:57:05.820742Z"
    }
   },
   "outputs": [],
   "source": [
    "df['Seasonal First Difference'].plot()"
   ]
  },
  {
   "cell_type": "code",
   "execution_count": null,
   "metadata": {
    "execution": {
     "iopub.execute_input": "2024-05-12T06:57:11.55227Z",
     "iopub.status.busy": "2024-05-12T06:57:11.551883Z",
     "iopub.status.idle": "2024-05-12T06:57:11.895239Z",
     "shell.execute_reply": "2024-05-12T06:57:11.89354Z",
     "shell.execute_reply.started": "2024-05-12T06:57:11.552241Z"
    }
   },
   "outputs": [],
   "source": [
    "from pandas.plotting import autocorrelation_plot\n",
    "autocorrelation_plot(df['Sales'])\n",
    "plt.show()"
   ]
  },
  {
   "cell_type": "code",
   "execution_count": null,
   "metadata": {
    "execution": {
     "iopub.execute_input": "2024-05-12T06:57:17.028906Z",
     "iopub.status.busy": "2024-05-12T06:57:17.028434Z",
     "iopub.status.idle": "2024-05-12T06:57:17.761618Z",
     "shell.execute_reply": "2024-05-12T06:57:17.760326Z",
     "shell.execute_reply.started": "2024-05-12T06:57:17.028874Z"
    }
   },
   "outputs": [],
   "source": [
    "from statsmodels.graphics.tsaplots import plot_acf,plot_pacf\n",
    "import statsmodels.api as sm\n",
    "fig = plt.figure(figsize=(12,8))\n",
    "ax1 = fig.add_subplot(211)\n",
    "fig = sm.graphics.tsa.plot_acf(df['Seasonal First Difference'].dropna(),lags=40,ax=ax1)\n",
    "ax2 = fig.add_subplot(212)\n",
    "fig = sm.graphics.tsa.plot_pacf(df['Seasonal First Difference'].dropna(),lags=40,ax=ax2)"
   ]
  },
  {
   "cell_type": "code",
   "execution_count": null,
   "metadata": {
    "execution": {
     "iopub.execute_input": "2024-05-12T06:57:21.067689Z",
     "iopub.status.busy": "2024-05-12T06:57:21.067241Z",
     "iopub.status.idle": "2024-05-12T06:57:21.193649Z",
     "shell.execute_reply": "2024-05-12T06:57:21.192524Z",
     "shell.execute_reply.started": "2024-05-12T06:57:21.067654Z"
    }
   },
   "outputs": [],
   "source": [
    "from statsmodels.tsa.arima.model import ARIMA\n",
    "\n",
    "model=ARIMA(df['Sales'],order=(1,1,1))\n",
    "model_fit=model.fit()\n",
    "model_fit.summary()"
   ]
  },
  {
   "cell_type": "code",
   "execution_count": null,
   "metadata": {
    "execution": {
     "iopub.execute_input": "2024-05-12T07:02:21.856546Z",
     "iopub.status.busy": "2024-05-12T07:02:21.856137Z",
     "iopub.status.idle": "2024-05-12T07:02:21.865537Z",
     "shell.execute_reply": "2024-05-12T07:02:21.8639Z",
     "shell.execute_reply.started": "2024-05-12T07:02:21.856514Z"
    }
   },
   "outputs": [],
   "source": [
    "start = 385\n",
    "end = start + 13\n",
    "start1 = end + 1\n",
    "end1 = start1 + 13\n",
    "start, end, start1, end1"
   ]
  },
  {
   "cell_type": "code",
   "execution_count": null,
   "metadata": {
    "execution": {
     "iopub.execute_input": "2024-05-12T07:02:22.832791Z",
     "iopub.status.busy": "2024-05-12T07:02:22.831664Z",
     "iopub.status.idle": "2024-05-12T07:02:23.409137Z",
     "shell.execute_reply": "2024-05-12T07:02:23.406901Z",
     "shell.execute_reply.started": "2024-05-12T07:02:22.832736Z"
    }
   },
   "outputs": [],
   "source": [
    "df['forecast']=model_fit.predict(start=start,end=end,dynamic=True)\n",
    "df[['Sales','forecast']].plot(figsize=(12,8))"
   ]
  },
  {
   "cell_type": "code",
   "execution_count": null,
   "metadata": {
    "execution": {
     "iopub.execute_input": "2024-05-12T07:02:23.429615Z",
     "iopub.status.busy": "2024-05-12T07:02:23.428348Z",
     "iopub.status.idle": "2024-05-12T07:02:26.362285Z",
     "shell.execute_reply": "2024-05-12T07:02:26.36111Z",
     "shell.execute_reply.started": "2024-05-12T07:02:23.429569Z"
    }
   },
   "outputs": [],
   "source": [
    "import statsmodels.api as sm\n",
    "model=sm.tsa.statespace.SARIMAX(df['Sales'],order=(1, 1, 1),seasonal_order=(1,1,1,12))\n",
    "results=model.fit()\n",
    "df['forecast']=results.predict(start=start, end=end, dynamic=True)\n",
    "df[['Sales','forecast']].plot(figsize=(12,8))"
   ]
  },
  {
   "cell_type": "code",
   "execution_count": null,
   "metadata": {
    "execution": {
     "iopub.execute_input": "2024-05-12T07:02:26.364886Z",
     "iopub.status.busy": "2024-05-12T07:02:26.364386Z",
     "iopub.status.idle": "2024-05-12T07:02:26.941103Z",
     "shell.execute_reply": "2024-05-12T07:02:26.939621Z",
     "shell.execute_reply.started": "2024-05-12T07:02:26.364849Z"
    }
   },
   "outputs": [],
   "source": [
    "from pandas.tseries.offsets import DateOffset\n",
    "future_dates=[df.index[-1]+ DateOffset(months=x)for x in range(0,24)]\n",
    "future_datest_df=pd.DataFrame(index=future_dates[1:],columns=df.columns)\n",
    "\n",
    "future_datest_df.tail()\n",
    "\n",
    "future_df=pd.concat([df,future_datest_df])\n",
    "\n",
    "future_df['forecast'] = results.predict(start = start1, end = end1, dynamic= True)\n",
    "future_df[['Sales', 'forecast']].plot(figsize=(12, 8))"
   ]
  },
  {
   "cell_type": "code",
   "execution_count": null,
   "metadata": {},
   "outputs": [],
   "source": []
  },
  {
   "cell_type": "code",
   "execution_count": null,
   "metadata": {},
   "outputs": [],
   "source": []
  },
  {
   "cell_type": "code",
   "execution_count": null,
   "metadata": {},
   "outputs": [],
   "source": []
  }
 ],
 "metadata": {
  "kaggle": {
   "accelerator": "none",
   "dataSources": [
    {
     "datasetId": 56102,
     "sourceId": 107707,
     "sourceType": "datasetVersion"
    }
   ],
   "dockerImageVersionId": 30698,
   "isGpuEnabled": false,
   "isInternetEnabled": false,
   "language": "python",
   "sourceType": "notebook"
  },
  "kernelspec": {
   "display_name": "Python 3",
   "language": "python",
   "name": "python3"
  },
  "language_info": {
   "codemirror_mode": {
    "name": "ipython",
    "version": 3
   },
   "file_extension": ".py",
   "mimetype": "text/x-python",
   "name": "python",
   "nbconvert_exporter": "python",
   "pygments_lexer": "ipython3",
   "version": "3.10.13"
  }
 },
 "nbformat": 4,
 "nbformat_minor": 4
}
